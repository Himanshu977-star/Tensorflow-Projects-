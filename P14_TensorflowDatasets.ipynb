{
 "cells": [
  {
   "cell_type": "markdown",
   "id": "ec7ffae8",
   "metadata": {},
   "source": [
    "Use tensorflow_datasets (TFDS) to easily load and preprocess standard datasets like mnist, cifar10, or rock_paper_scissors with built-in train/test splits."
   ]
  },
  {
   "cell_type": "code",
   "execution_count": 1,
   "id": "d1d1c195",
   "metadata": {},
   "outputs": [],
   "source": [
    "import tensorflow as tf\n",
    "import tensorflow_datasets as tfds\n",
    "from tensorflow.keras.models import Sequential\n",
    "from tensorflow.keras.layers import Dense, Dropout, Flatten, Conv2D, MaxPooling2D"
   ]
  },
  {
   "cell_type": "code",
   "execution_count": 2,
   "id": "834a7f6a",
   "metadata": {},
   "outputs": [
    {
     "name": "stderr",
     "output_type": "stream",
     "text": [
      "WARNING:absl:Variant folder C:\\Users\\ADARSH\\tensorflow_datasets\\cifar10\\3.0.2 has no dataset_info.json\n",
      "c:\\Users\\ADARSH\\.conda\\envs\\tf_env\\lib\\site-packages\\tqdm\\auto.py:21: TqdmWarning: IProgress not found. Please update jupyter and ipywidgets. See https://ipywidgets.readthedocs.io/en/stable/user_install.html\n",
      "  from .autonotebook import tqdm as notebook_tqdm\n"
     ]
    },
    {
     "name": "stdout",
     "output_type": "stream",
     "text": [
      "\u001b[1mDownloading and preparing dataset Unknown size (download: Unknown size, generated: Unknown size, total: Unknown size) to C:\\Users\\ADARSH\\tensorflow_datasets\\cifar10\\3.0.2...\u001b[0m\n"
     ]
    },
    {
     "name": "stderr",
     "output_type": "stream",
     "text": [
      "Dl Completed...: 0 url [00:00, ? url/s]\n",
      "Dl Completed...:   0%|          | 0/1 [00:00<?, ? url/s]\n",
      "Dl Completed...:   0%|          | 0/1 [00:00<?, ? url/s]\n",
      "Dl Completed...:   0%|          | 0/1 [00:04<?, ? url/s]\n",
      "Dl Completed...:   0%|          | 0/1 [00:06<?, ? url/s]\n",
      "Dl Completed...:   0%|          | 0/1 [00:08<?, ? url/s]\n",
      "Dl Completed...:   0%|          | 0/1 [00:09<?, ? url/s]\n",
      "Dl Completed...:   0%|          | 0/1 [00:11<?, ? url/s]\n",
      "Dl Completed...:   0%|          | 0/1 [00:12<?, ? url/s]\n",
      "Dl Completed...:   0%|          | 0/1 [00:13<?, ? url/s]\n",
      "Dl Completed...:   0%|          | 0/1 [00:14<?, ? url/s]\n",
      "Dl Completed...:   0%|          | 0/1 [00:15<?, ? url/s]\n",
      "Dl Completed...:   0%|          | 0/1 [00:16<?, ? url/s]\n",
      "Dl Completed...:   0%|          | 0/1 [00:17<?, ? url/s]\n",
      "Dl Completed...:   0%|          | 0/1 [00:18<?, ? url/s]\n",
      "Dl Completed...:   0%|          | 0/1 [00:19<?, ? url/s]\n",
      "Dl Completed...:   0%|          | 0/1 [00:19<?, ? url/s]\n",
      "Dl Completed...:   0%|          | 0/1 [00:20<?, ? url/s]\n",
      "Dl Completed...:   0%|          | 0/1 [00:20<?, ? url/s]\n",
      "Dl Completed...:   0%|          | 0/1 [00:21<?, ? url/s]\n",
      "Dl Completed...:   0%|          | 0/1 [00:21<?, ? url/s]\n",
      "Dl Completed...:   0%|          | 0/1 [00:21<?, ? url/s]\n",
      "Dl Completed...:   0%|          | 0/1 [00:22<?, ? url/s]\n",
      "Dl Completed...:   0%|          | 0/1 [00:22<?, ? url/s]\n",
      "Dl Completed...:   0%|          | 0/1 [00:22<?, ? url/s]\n",
      "Dl Completed...:   0%|          | 0/1 [00:23<?, ? url/s]\n",
      "Dl Completed...:   0%|          | 0/1 [00:23<?, ? url/s]\n",
      "Dl Completed...:   0%|          | 0/1 [00:23<?, ? url/s]\n",
      "Dl Completed...:   0%|          | 0/1 [00:23<?, ? url/s]\n",
      "Dl Completed...:   0%|          | 0/1 [00:24<?, ? url/s]\n",
      "Dl Completed...:   0%|          | 0/1 [00:24<?, ? url/s]\n",
      "Dl Completed...:   0%|          | 0/1 [00:24<?, ? url/s]\n",
      "Dl Completed...:   0%|          | 0/1 [00:24<?, ? url/s]\n",
      "Dl Completed...:   0%|          | 0/1 [00:24<?, ? url/s]\n",
      "Dl Completed...:   0%|          | 0/1 [00:25<?, ? url/s]\n",
      "Dl Completed...:   0%|          | 0/1 [00:25<?, ? url/s]\n",
      "Dl Completed...:   0%|          | 0/1 [00:25<?, ? url/s]\n",
      "Dl Completed...:   0%|          | 0/1 [00:25<?, ? url/s]\n",
      "Dl Completed...:   0%|          | 0/1 [00:25<?, ? url/s]\n",
      "Dl Completed...:   0%|          | 0/1 [00:25<?, ? url/s]\n",
      "Dl Completed...:   0%|          | 0/1 [00:26<?, ? url/s]\n",
      "Dl Completed...:   0%|          | 0/1 [00:26<?, ? url/s]\n",
      "Dl Completed...:   0%|          | 0/1 [00:26<?, ? url/s]\n",
      "Dl Completed...:   0%|          | 0/1 [00:26<?, ? url/s]\n",
      "Dl Completed...:   0%|          | 0/1 [00:26<?, ? url/s]\n",
      "Dl Completed...:   0%|          | 0/1 [00:26<?, ? url/s]\n",
      "Dl Completed...:   0%|          | 0/1 [00:26<?, ? url/s]\n",
      "Dl Completed...:   0%|          | 0/1 [00:27<?, ? url/s]\n",
      "Dl Completed...:   0%|          | 0/1 [00:27<?, ? url/s]\n",
      "Dl Completed...:   0%|          | 0/1 [00:27<?, ? url/s]\n",
      "Dl Completed...:   0%|          | 0/1 [00:27<?, ? url/s]\n",
      "Dl Completed...:   0%|          | 0/1 [00:27<?, ? url/s]\n",
      "Dl Completed...:   0%|          | 0/1 [00:27<?, ? url/s]\n",
      "Dl Completed...:   0%|          | 0/1 [00:28<?, ? url/s]\n",
      "Dl Completed...:   0%|          | 0/1 [00:28<?, ? url/s]\n",
      "Dl Completed...:   0%|          | 0/1 [00:28<?, ? url/s]\n",
      "Dl Completed...:   0%|          | 0/1 [00:28<?, ? url/s]\n",
      "Dl Completed...:   0%|          | 0/1 [00:28<?, ? url/s]\n",
      "Dl Completed...:   0%|          | 0/1 [00:29<?, ? url/s]\n",
      "Dl Completed...:   0%|          | 0/1 [00:29<?, ? url/s]\n",
      "Dl Completed...:   0%|          | 0/1 [00:29<?, ? url/s]\n",
      "Dl Completed...:   0%|          | 0/1 [00:29<?, ? url/s]\n",
      "Dl Completed...:   0%|          | 0/1 [00:29<?, ? url/s]\n",
      "Dl Completed...:   0%|          | 0/1 [00:30<?, ? url/s]\n",
      "Dl Completed...:   0%|          | 0/1 [00:30<?, ? url/s]\n",
      "Dl Completed...:   0%|          | 0/1 [00:30<?, ? url/s]\n",
      "Dl Completed...:   0%|          | 0/1 [00:30<?, ? url/s]\n",
      "Dl Completed...:   0%|          | 0/1 [00:30<?, ? url/s]\n",
      "Dl Completed...:   0%|          | 0/1 [00:31<?, ? url/s]\n",
      "Dl Completed...:   0%|          | 0/1 [00:31<?, ? url/s]\n",
      "Dl Completed...:   0%|          | 0/1 [00:31<?, ? url/s]\n",
      "Dl Completed...:   0%|          | 0/1 [00:31<?, ? url/s]\n",
      "Dl Completed...:   0%|          | 0/1 [00:31<?, ? url/s]\n",
      "Dl Completed...:   0%|          | 0/1 [00:32<?, ? url/s]\n",
      "Dl Completed...:   0%|          | 0/1 [00:32<?, ? url/s]\n",
      "Dl Completed...:   0%|          | 0/1 [00:32<?, ? url/s]\n",
      "Dl Completed...:   0%|          | 0/1 [00:32<?, ? url/s]\n",
      "Dl Completed...:   0%|          | 0/1 [00:32<?, ? url/s]\n",
      "Dl Completed...:   0%|          | 0/1 [00:33<?, ? url/s]\n",
      "Dl Completed...:   0%|          | 0/1 [00:33<?, ? url/s]\n",
      "Dl Completed...:   0%|          | 0/1 [00:33<?, ? url/s]\n",
      "Dl Completed...:   0%|          | 0/1 [00:33<?, ? url/s]\n",
      "Dl Completed...:   0%|          | 0/1 [00:33<?, ? url/s]\n",
      "Dl Completed...:   0%|          | 0/1 [00:34<?, ? url/s]\n",
      "Dl Completed...:   0%|          | 0/1 [00:34<?, ? url/s]\n",
      "Dl Completed...:   0%|          | 0/1 [00:34<?, ? url/s]\n",
      "Dl Completed...:   0%|          | 0/1 [00:34<?, ? url/s]\n",
      "Dl Completed...:   0%|          | 0/1 [00:34<?, ? url/s]\n",
      "Dl Completed...:   0%|          | 0/1 [00:34<?, ? url/s]\n",
      "Dl Completed...:   0%|          | 0/1 [00:35<?, ? url/s]\n",
      "Dl Completed...:   0%|          | 0/1 [00:35<?, ? url/s]\n",
      "Dl Completed...:   0%|          | 0/1 [00:35<?, ? url/s]\n",
      "Dl Completed...:   0%|          | 0/1 [00:35<?, ? url/s]\n",
      "Dl Completed...:   0%|          | 0/1 [00:35<?, ? url/s]\n",
      "Dl Completed...:   0%|          | 0/1 [00:36<?, ? url/s]\n",
      "Dl Completed...:   0%|          | 0/1 [00:36<?, ? url/s]\n",
      "Dl Completed...:   0%|          | 0/1 [00:36<?, ? url/s]\n",
      "Dl Completed...:   0%|          | 0/1 [00:36<?, ? url/s]\n",
      "Dl Completed...:   0%|          | 0/1 [00:36<?, ? url/s]\n",
      "Dl Completed...:   0%|          | 0/1 [00:36<?, ? url/s]\n",
      "Dl Completed...:   0%|          | 0/1 [00:37<?, ? url/s]\n",
      "Dl Completed...:   0%|          | 0/1 [00:37<?, ? url/s]\n",
      "Dl Completed...:   0%|          | 0/1 [00:37<?, ? url/s]\n",
      "Dl Completed...:   0%|          | 0/1 [00:37<?, ? url/s]\n",
      "Dl Completed...:   0%|          | 0/1 [00:37<?, ? url/s]\n",
      "Dl Completed...:   0%|          | 0/1 [00:38<?, ? url/s]\n",
      "Dl Completed...:   0%|          | 0/1 [00:38<?, ? url/s]\n",
      "Dl Completed...:   0%|          | 0/1 [00:38<?, ? url/s]\n",
      "Dl Completed...:   0%|          | 0/1 [00:38<?, ? url/s]\n",
      "Dl Completed...:   0%|          | 0/1 [00:38<?, ? url/s]\n",
      "Dl Completed...:   0%|          | 0/1 [00:39<?, ? url/s]\n",
      "Dl Completed...:   0%|          | 0/1 [00:39<?, ? url/s]\n",
      "Dl Completed...:   0%|          | 0/1 [00:39<?, ? url/s]\n",
      "Dl Completed...:   0%|          | 0/1 [00:39<?, ? url/s]\n",
      "Dl Completed...:   0%|          | 0/1 [00:39<?, ? url/s]\n",
      "Dl Completed...:   0%|          | 0/1 [00:39<?, ? url/s]\n",
      "Dl Completed...:   0%|          | 0/1 [00:40<?, ? url/s]\n",
      "Dl Completed...:   0%|          | 0/1 [00:40<?, ? url/s]\n",
      "Dl Completed...:   0%|          | 0/1 [00:40<?, ? url/s]\n",
      "Dl Completed...:   0%|          | 0/1 [00:40<?, ? url/s]\n",
      "Dl Completed...:   0%|          | 0/1 [00:40<?, ? url/s]\n",
      "Dl Completed...:   0%|          | 0/1 [00:40<?, ? url/s]\n",
      "Dl Completed...:   0%|          | 0/1 [00:41<?, ? url/s]\n",
      "Dl Completed...:   0%|          | 0/1 [00:41<?, ? url/s]\n",
      "Dl Completed...:   0%|          | 0/1 [00:41<?, ? url/s]\n",
      "Dl Completed...:   0%|          | 0/1 [00:41<?, ? url/s]\n",
      "Dl Completed...:   0%|          | 0/1 [00:41<?, ? url/s]\n",
      "Dl Completed...:   0%|          | 0/1 [00:42<?, ? url/s]\n",
      "Dl Completed...:   0%|          | 0/1 [00:42<?, ? url/s]\n",
      "Dl Completed...:   0%|          | 0/1 [00:42<?, ? url/s]\n",
      "Dl Completed...:   0%|          | 0/1 [00:42<?, ? url/s]\n",
      "Dl Completed...:   0%|          | 0/1 [00:42<?, ? url/s]\n",
      "Dl Completed...:   0%|          | 0/1 [00:42<?, ? url/s]\n",
      "Dl Completed...:   0%|          | 0/1 [00:43<?, ? url/s]\n",
      "Dl Completed...:   0%|          | 0/1 [00:43<?, ? url/s]\n",
      "Dl Completed...:   0%|          | 0/1 [00:43<?, ? url/s]\n",
      "Dl Completed...:   0%|          | 0/1 [00:43<?, ? url/s]\n",
      "Dl Completed...:   0%|          | 0/1 [00:43<?, ? url/s]\n",
      "Dl Completed...:   0%|          | 0/1 [00:44<?, ? url/s]\n",
      "Dl Completed...:   0%|          | 0/1 [00:44<?, ? url/s]\n",
      "Dl Completed...:   0%|          | 0/1 [00:44<?, ? url/s]\n",
      "Dl Completed...:   0%|          | 0/1 [00:44<?, ? url/s]\n",
      "Dl Completed...:   0%|          | 0/1 [00:44<?, ? url/s]\n",
      "Dl Completed...:   0%|          | 0/1 [00:44<?, ? url/s]\n",
      "Dl Completed...:   0%|          | 0/1 [00:44<?, ? url/s]\n",
      "Dl Completed...:   0%|          | 0/1 [00:45<?, ? url/s]\n",
      "Dl Completed...:   0%|          | 0/1 [00:45<?, ? url/s]\n",
      "Dl Completed...:   0%|          | 0/1 [00:45<?, ? url/s]\n",
      "Dl Completed...:   0%|          | 0/1 [00:45<?, ? url/s]\n",
      "Dl Completed...:   0%|          | 0/1 [00:45<?, ? url/s]\n",
      "Dl Completed...:   0%|          | 0/1 [00:45<?, ? url/s]\n",
      "Dl Completed...:   0%|          | 0/1 [00:45<?, ? url/s]\n",
      "Dl Completed...:   0%|          | 0/1 [00:46<?, ? url/s]\n",
      "Dl Completed...:   0%|          | 0/1 [00:46<?, ? url/s]\n",
      "Dl Completed...:   0%|          | 0/1 [00:46<?, ? url/s]\n",
      "Dl Completed...:   0%|          | 0/1 [00:46<?, ? url/s]\n",
      "Dl Completed...:   0%|          | 0/1 [00:46<?, ? url/s]\n",
      "Dl Completed...:   0%|          | 0/1 [00:46<?, ? url/s]\n",
      "Dl Completed...:   0%|          | 0/1 [00:47<?, ? url/s]\n",
      "Dl Completed...:   0%|          | 0/1 [00:47<?, ? url/s]\n",
      "Dl Completed...:   0%|          | 0/1 [00:47<?, ? url/s]\n",
      "Dl Completed...:   0%|          | 0/1 [00:47<?, ? url/s]\n",
      "Dl Completed...:   0%|          | 0/1 [00:47<?, ? url/s]\n",
      "Dl Completed...:   0%|          | 0/1 [00:48<?, ? url/s]\n",
      "Dl Completed...:   0%|          | 0/1 [00:48<?, ? url/s]\n",
      "Dl Completed...: 100%|██████████| 1/1 [00:48<00:00, 48.58s/ url]\n",
      "Dl Completed...: 100%|██████████| 1/1 [00:48<00:00, 48.58s/ url]\n",
      "Dl Completed...: 100%|██████████| 1/1 [00:48<00:00, 48.58s/ url]\n",
      "Dl Completed...: 100%|██████████| 1/1 [00:49<00:00, 48.58s/ url]\n",
      "Dl Completed...: 100%|██████████| 1/1 [00:49<00:00, 48.58s/ url]\n",
      "Dl Completed...: 100%|██████████| 1/1 [00:49<00:00, 48.58s/ url]\n",
      "Dl Completed...: 100%|██████████| 1/1 [00:49<00:00, 48.58s/ url]\n",
      "Dl Completed...: 100%|██████████| 1/1 [00:49<00:00, 48.58s/ url]\n",
      "Dl Completed...: 100%|██████████| 1/1 [00:50<00:00, 48.58s/ url]\n",
      "\u001b[A\n",
      "Dl Completed...: 100%|██████████| 1/1 [00:50<00:00, 48.58s/ url]\n",
      "Dl Completed...: 100%|██████████| 1/1 [00:50<00:00, 48.58s/ url]\n",
      "Dl Completed...: 100%|██████████| 1/1 [00:50<00:00, 48.58s/ url]\n",
      "Dl Completed...: 100%|██████████| 1/1 [00:50<00:00, 48.58s/ url]\n",
      "Dl Completed...: 100%|██████████| 1/1 [00:50<00:00, 48.58s/ url]\n",
      "Dl Completed...: 100%|██████████| 1/1 [00:50<00:00, 48.58s/ url]\n",
      "Dl Completed...: 100%|██████████| 1/1 [00:50<00:00, 48.58s/ url]\n",
      "Dl Completed...: 100%|██████████| 1/1 [00:50<00:00, 48.58s/ url]\n",
      "Extraction completed...: 100%|██████████| 8/8 [00:50<00:00,  6.29s/ file]\n",
      "Dl Size...: 100%|██████████| 162/162 [00:50<00:00,  3.22 MiB/s]\n",
      "Dl Completed...: 100%|██████████| 1/1 [00:50<00:00, 50.35s/ url]\n",
      "                                                                        \r"
     ]
    },
    {
     "name": "stdout",
     "output_type": "stream",
     "text": [
      "\u001b[1mDataset cifar10 downloaded and prepared to C:\\Users\\ADARSH\\tensorflow_datasets\\cifar10\\3.0.2. Subsequent calls will reuse this data.\u001b[0m\n"
     ]
    }
   ],
   "source": [
    "#Load the CIFAR-10 dataset\n",
    "(ds_train,ds_test),ds_info=tfds.load(\n",
    "    'cifar10',\n",
    "    split=['train','test'],\n",
    "    shuffle_files=True,\n",
    "    as_supervised=True,\n",
    "    with_info=True\n",
    ")"
   ]
  },
  {
   "cell_type": "code",
   "execution_count": 4,
   "id": "0447adbb",
   "metadata": {},
   "outputs": [],
   "source": [
    "#Normalize and batch data\n",
    "def preprocess(image,label):\n",
    "    image=tf.cast(image,tf.float32)/255.0\n",
    "    return image,label\n",
    "\n",
    "batch_size=32\n",
    "ds_train=ds_train.map(preprocess).batch(batch_size).prefetch(tf.data.experimental.AUTOTUNE)\n",
    "ds_test=ds_test.map(preprocess).batch(batch_size).prefetch(tf.data.experimental.AUTOTUNE)"
   ]
  },
  {
   "cell_type": "code",
   "execution_count": 6,
   "id": "6adcd753",
   "metadata": {},
   "outputs": [
    {
     "name": "stderr",
     "output_type": "stream",
     "text": [
      "c:\\Users\\ADARSH\\.conda\\envs\\tf_env\\lib\\site-packages\\keras\\src\\layers\\convolutional\\base_conv.py:113: UserWarning: Do not pass an `input_shape`/`input_dim` argument to a layer. When using Sequential models, prefer using an `Input(shape)` object as the first layer in the model instead.\n",
      "  super().__init__(activity_regularizer=activity_regularizer, **kwargs)\n"
     ]
    }
   ],
   "source": [
    "#Build simple CNN model\n",
    "model=Sequential([\n",
    "    Conv2D(32,3,activation='relu',input_shape=(32,32,3)),\n",
    "    MaxPooling2D(),\n",
    "    Flatten(),\n",
    "    Dense(64,activation='relu'),\n",
    "    Dense(10,activation='softmax')\n",
    "])"
   ]
  },
  {
   "cell_type": "code",
   "execution_count": 7,
   "id": "90552c7c",
   "metadata": {},
   "outputs": [],
   "source": [
    "model.compile(optimizer='adam',loss='sparse_categorical_crossentropy',metrics=['accuracy'])"
   ]
  },
  {
   "cell_type": "code",
   "execution_count": 9,
   "id": "ed19e850",
   "metadata": {},
   "outputs": [
    {
     "name": "stdout",
     "output_type": "stream",
     "text": [
      "Epoch 1/5\n",
      "\u001b[1m1563/1563\u001b[0m \u001b[32m━━━━━━━━━━━━━━━━━━━━\u001b[0m\u001b[37m\u001b[0m \u001b[1m22s\u001b[0m 14ms/step - accuracy: 0.5532 - loss: 1.2694 - val_accuracy: 0.5820 - val_loss: 1.1824\n",
      "Epoch 2/5\n",
      "\u001b[1m1563/1563\u001b[0m \u001b[32m━━━━━━━━━━━━━━━━━━━━\u001b[0m\u001b[37m\u001b[0m \u001b[1m21s\u001b[0m 13ms/step - accuracy: 0.6122 - loss: 1.1190 - val_accuracy: 0.6141 - val_loss: 1.1178\n",
      "Epoch 3/5\n",
      "\u001b[1m1563/1563\u001b[0m \u001b[32m━━━━━━━━━━━━━━━━━━━━\u001b[0m\u001b[37m\u001b[0m \u001b[1m20s\u001b[0m 13ms/step - accuracy: 0.6505 - loss: 1.0209 - val_accuracy: 0.6193 - val_loss: 1.1061\n",
      "Epoch 4/5\n",
      "\u001b[1m1563/1563\u001b[0m \u001b[32m━━━━━━━━━━━━━━━━━━━━\u001b[0m\u001b[37m\u001b[0m \u001b[1m21s\u001b[0m 13ms/step - accuracy: 0.6695 - loss: 0.9572 - val_accuracy: 0.6244 - val_loss: 1.0941\n",
      "Epoch 5/5\n",
      "\u001b[1m1563/1563\u001b[0m \u001b[32m━━━━━━━━━━━━━━━━━━━━\u001b[0m\u001b[37m\u001b[0m \u001b[1m20s\u001b[0m 13ms/step - accuracy: 0.6853 - loss: 0.9075 - val_accuracy: 0.6273 - val_loss: 1.0877\n"
     ]
    },
    {
     "data": {
      "text/plain": [
       "<keras.src.callbacks.history.History at 0x21b26b53790>"
      ]
     },
     "execution_count": 9,
     "metadata": {},
     "output_type": "execute_result"
    }
   ],
   "source": [
    "model.fit(ds_train,epochs=5,validation_data=ds_test,verbose=1)"
   ]
  },
  {
   "cell_type": "code",
   "execution_count": 10,
   "id": "d5c02f80",
   "metadata": {},
   "outputs": [
    {
     "name": "stdout",
     "output_type": "stream",
     "text": [
      "Test loss: 1.088, Test accuracy: 0.627\n"
     ]
    }
   ],
   "source": [
    "loss,acc=model.evaluate(ds_test,verbose=0)\n",
    "print(f'Test loss: {loss:.3f}, Test accuracy: {acc:.3f}')"
   ]
  }
 ],
 "metadata": {
  "kernelspec": {
   "display_name": "Python (tf_env)",
   "language": "python",
   "name": "tf_env"
  },
  "language_info": {
   "codemirror_mode": {
    "name": "ipython",
    "version": 3
   },
   "file_extension": ".py",
   "mimetype": "text/x-python",
   "name": "python",
   "nbconvert_exporter": "python",
   "pygments_lexer": "ipython3",
   "version": "3.10.16"
  }
 },
 "nbformat": 4,
 "nbformat_minor": 5
}
