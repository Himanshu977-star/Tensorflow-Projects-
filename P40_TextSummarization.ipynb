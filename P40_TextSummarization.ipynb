{
 "cells": [
  {
   "cell_type": "markdown",
   "id": "bb4bac13",
   "metadata": {},
   "source": [
    "Use a pretrained transformer model from TensorFlow Hub to generate abstractive summaries of long text passages using the PEGASUS model."
   ]
  },
  {
   "cell_type": "code",
   "execution_count": 4,
   "id": "a49fbe5c",
   "metadata": {},
   "outputs": [],
   "source": [
    "from transformers import PegasusTokenizer, TFPegasusForConditionalGeneration\n",
    "import tensorflow as tf"
   ]
  },
  {
   "cell_type": "code",
   "execution_count": 7,
   "id": "7933362d",
   "metadata": {},
   "outputs": [
    {
     "name": "stderr",
     "output_type": "stream",
     "text": [
      "All model checkpoint layers were used when initializing TFPegasusForConditionalGeneration.\n",
      "\n",
      "Some layers of TFPegasusForConditionalGeneration were not initialized from the model checkpoint at google/pegasus-xsum and are newly initialized: ['final_logits_bias']\n",
      "You should probably TRAIN this model on a down-stream task to be able to use it for predictions and inference.\n"
     ]
    }
   ],
   "source": [
    "# Load PEGASUS tokenizer and TensorFlow model\n",
    "model_name = \"google/pegasus-xsum\"\n",
    "tokenizer = PegasusTokenizer.from_pretrained(model_name)\n",
    "model = TFPegasusForConditionalGeneration.from_pretrained(model_name)"
   ]
  },
  {
   "cell_type": "code",
   "execution_count": 8,
   "id": "11bea79b",
   "metadata": {},
   "outputs": [],
   "source": [
    "document = \"\"\"\n",
    "Artificial Intelligence (AI) is transforming the world around us. From voice assistants and self-driving cars\n",
    "to medical diagnostics and financial predictions, AI systems are now integral to modern life. At its core, AI\n",
    "involves creating machines that can mimic human intelligence and improve themselves through data-driven learning.\n",
    "\"\"\""
   ]
  },
  {
   "cell_type": "code",
   "execution_count": 12,
   "id": "c6ce3ad2",
   "metadata": {},
   "outputs": [
    {
     "name": "stderr",
     "output_type": "stream",
     "text": [
      "TensorFlow and JAX classes are deprecated and will be removed in Transformers v5. We recommend migrating to PyTorch classes or pinning your version of Transformers.\n"
     ]
    }
   ],
   "source": [
    "# Tokenize input\n",
    "inputs = tokenizer(document, return_tensors=\"tf\", truncation=True, padding=\"longest\")\n",
    "\n",
    "# Generate summary\n",
    "summary_ids = model.generate(**inputs, max_length=60, num_beams=4, early_stopping=True)\n",
    "summary = tokenizer.decode(summary_ids[0], skip_special_tokens=True)"
   ]
  },
  {
   "cell_type": "code",
   "execution_count": 13,
   "id": "660d909e",
   "metadata": {},
   "outputs": [
    {
     "name": "stdout",
     "output_type": "stream",
     "text": [
      "Original Document:\n",
      " Artificial Intelligence (AI) is transforming the world around us. From voice assistants and self-driving cars\n",
      "to medical diagnostics and financial predictions, AI systems are now integral to modern life. At its core, AI\n",
      "involves creating machines that can mimic human intelligence and improve themselves through data-driven learning.\n",
      "\n",
      "Generated Summary:\n",
      " In our series of letters from African journalists, filmmaker and columnist Farai Sevenzo looks at how artificial intelligence is changing our lives.\n"
     ]
    }
   ],
   "source": [
    "# Print original document and generated summary\n",
    "print(\"Original Document:\\n\", document.strip())\n",
    "print(\"\\nGenerated Summary:\\n\", summary)"
   ]
  }
 ],
 "metadata": {
  "kernelspec": {
   "display_name": "Python (tf_env)",
   "language": "python",
   "name": "tf_env"
  },
  "language_info": {
   "codemirror_mode": {
    "name": "ipython",
    "version": 3
   },
   "file_extension": ".py",
   "mimetype": "text/x-python",
   "name": "python",
   "nbconvert_exporter": "python",
   "pygments_lexer": "ipython3",
   "version": "3.9.23"
  }
 },
 "nbformat": 4,
 "nbformat_minor": 5
}
