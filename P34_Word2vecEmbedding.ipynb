{
 "cells": [
  {
   "cell_type": "markdown",
   "id": "3a62effc",
   "metadata": {},
   "source": [
    "Train custom Word2Vec word embeddings using TensorFlow and a skip-gram model on a small text corpus."
   ]
  },
  {
   "cell_type": "code",
   "execution_count": 2,
   "id": "55c4df07",
   "metadata": {},
   "outputs": [],
   "source": [
    "import tensorflow as tf\n",
    "import tensorflow_datasets as tfds\n",
    "import numpy as np\n",
    "import itertools\n",
    "from collections import defaultdict"
   ]
  },
  {
   "cell_type": "code",
   "execution_count": 3,
   "id": "51873c59",
   "metadata": {},
   "outputs": [],
   "source": [
    "# Sample corpus\n",
    "sentences = [\n",
    "    \"machine learning is fun\",\n",
    "    \"deep learning is part of machine learning\",\n",
    "    \"natural language processing is a field of ai\",\n",
    "    \"word embeddings are learned representations\",\n",
    "    \"tensorflow makes it easy to build models\"\n",
    "]"
   ]
  },
  {
   "cell_type": "code",
   "execution_count": 4,
   "id": "e656c386",
   "metadata": {},
   "outputs": [
    {
     "name": "stdout",
     "output_type": "stream",
     "text": [
      "{'learning': 1, 'is': 2, 'machine': 3, 'of': 4, 'fun': 5, 'deep': 6, 'part': 7, 'natural': 8, 'language': 9, 'processing': 10, 'a': 11, 'field': 12, 'ai': 13, 'word': 14, 'embeddings': 15, 'are': 16, 'learned': 17, 'representations': 18, 'tensorflow': 19, 'makes': 20, 'it': 21, 'easy': 22, 'to': 23, 'build': 24, 'models': 25}\n",
      "{1: 'learning', 2: 'is', 3: 'machine', 4: 'of', 5: 'fun', 6: 'deep', 7: 'part', 8: 'natural', 9: 'language', 10: 'processing', 11: 'a', 12: 'field', 13: 'ai', 14: 'word', 15: 'embeddings', 16: 'are', 17: 'learned', 18: 'representations', 19: 'tensorflow', 20: 'makes', 21: 'it', 22: 'easy', 23: 'to', 24: 'build', 25: 'models'}\n"
     ]
    }
   ],
   "source": [
    "# Tokenize corpus\n",
    "tokenizer=tf.keras.preprocessing.text.Tokenizer()\n",
    "tokenizer.fit_on_texts(sentences)\n",
    "word2idx=tokenizer.word_index\n",
    "idx2word={v:k for k,v in word2idx.items()}\n",
    "vocab_size=len(word2idx)+1\n",
    "print(word2idx)\n",
    "print(idx2word)"
   ]
  },
  {
   "cell_type": "code",
   "execution_count": 6,
   "id": "1e69b11b",
   "metadata": {},
   "outputs": [],
   "source": [
    "# Generate skip-gram pairs\n",
    "window_size=2\n",
    "sequences=tokenizer.texts_to_sequences(sentences)\n",
    "pairs=[]\n",
    "for seq in sequences:\n",
    "    for i,target_word in enumerate(seq):\n",
    "        context_window=seq[max(i-window_size,0):i]+seq[i+1:i+window_size+1]\n",
    "        for context_word in context_window:\n",
    "            pairs.append((target_word,context_word))\n",
    "\n",
    "#Purpose: Create pairs like (center word, context word) within a sliding window (skip-gram).\n",
    "#Example: For \"machine learning is fun\" with window_size=2, \"learning\" → \"machine\", \"is\"            "
   ]
  },
  {
   "cell_type": "code",
   "execution_count": 8,
   "id": "7562a045",
   "metadata": {},
   "outputs": [],
   "source": [
    "# Convert to numpy arrays\n",
    "targets,contexts=zip(*pairs)\n",
    "targets=np.array(targets)\n",
    "contexts=np.array(contexts)"
   ]
  },
  {
   "cell_type": "code",
   "execution_count": 9,
   "id": "56e34fea",
   "metadata": {},
   "outputs": [],
   "source": [
    "# One-hot encode targets\n",
    "context_labels=tf.keras.utils.to_categorical(contexts,num_classes=vocab_size)"
   ]
  },
  {
   "cell_type": "code",
   "execution_count": 10,
   "id": "955bc38d",
   "metadata": {},
   "outputs": [],
   "source": [
    "# Define skip-gram model\n",
    "embedding_dim=64\n",
    "input_word=tf.keras.Input(shape=(1,))\n",
    "embedding=tf.keras.layers.Embedding(input_dim=vocab_size,output_dim=embedding_dim)(input_word)\n",
    "x=tf.keras.layers.Reshape((embedding_dim,))(embedding)\n",
    "output=tf.keras.layers.Dense(vocab_size,activation='softmax')(x)\n",
    "model=tf.keras.Model(inputs=input_word,outputs=output)"
   ]
  },
  {
   "cell_type": "code",
   "execution_count": 11,
   "id": "d14992bb",
   "metadata": {},
   "outputs": [],
   "source": [
    "model.compile(loss='categorical_crossentropy',optimizer='adam')"
   ]
  },
  {
   "cell_type": "code",
   "execution_count": 12,
   "id": "cc1f5863",
   "metadata": {},
   "outputs": [
    {
     "data": {
      "text/plain": [
       "<keras.src.callbacks.history.History at 0x2055dbcf2b0>"
      ]
     },
     "execution_count": 12,
     "metadata": {},
     "output_type": "execute_result"
    }
   ],
   "source": [
    "model.fit(targets,context_labels,epochs=100,verbose=0)"
   ]
  },
  {
   "cell_type": "code",
   "execution_count": 13,
   "id": "65990123",
   "metadata": {},
   "outputs": [
    {
     "name": "stdout",
     "output_type": "stream",
     "text": [
      "learning: [ 0.224 -0.207  0.314  0.077 -0.114]\n",
      "is: [ 0.224 -0.036  0.246  0.339 -0.104]\n",
      "machine: [ 0.098 -0.362  0.208  0.175  0.148]\n",
      "of: [ 0.127 -0.103  0.202  0.032 -0.121]\n",
      "fun: [ 0.201 -0.212  0.198  0.032  0.235]\n",
      "deep: [ 0.2   -0.201  0.22   0.061  0.225]\n",
      "part: [ 0.333 -0.084  0.119  0.07   0.007]\n",
      "natural: [ 0.216  0.235  0.005  0.291 -0.132]\n",
      "language: [ 0.24   0.198  0.002 -0.034 -0.076]\n",
      "processing: [ 0.279  0.075  0.137 -0.193 -0.035]\n",
      "a: [ 0.254 -0.011  0.019 -0.034 -0.148]\n",
      "field: [ 0.203 -0.244 -0.121 -0.238 -0.079]\n",
      "ai: [ 0.142 -0.133 -0.115 -0.039 -0.226]\n",
      "word: [-0.212 -0.22   0.038 -0.076 -0.116]\n",
      "embeddings: [-0.217 -0.295 -0.102 -0.113 -0.281]\n",
      "are: [-0.324 -0.181 -0.316 -0.117  0.061]\n",
      "learned: [-0.188 -0.168 -0.119 -0.187  0.034]\n",
      "representations: [-0.219 -0.217 -0.088 -0.055 -0.186]\n",
      "tensorflow: [-0.178 -0.017  0.191  0.093  0.255]\n",
      "makes: [-0.304 -0.076  0.204 -0.037  0.315]\n",
      "it: [-0.184  0.169 -0.016 -0.321  0.288]\n",
      "easy: [-0.069  0.059  0.033 -0.152  0.29 ]\n",
      "to: [-0.031 -0.057  0.072 -0.042  0.289]\n",
      "build: [ 0.007  0.186 -0.336  0.065  0.283]\n",
      "models: [ 0.146  0.14  -0.095 -0.165  0.192]\n"
     ]
    }
   ],
   "source": [
    "#Extract and View Learned Embeddings\n",
    "embedding_weights = model.get_layer('embedding').get_weights()[0]\n",
    "for word, idx in word2idx.items():\n",
    "    vec = embedding_weights[idx][:5]  # First 5 dims for display\n",
    "    print(f\"{word}: {vec.round(3)}\")"
   ]
  }
 ],
 "metadata": {
  "kernelspec": {
   "display_name": "Python (tf_env)",
   "language": "python",
   "name": "tf_env"
  },
  "language_info": {
   "codemirror_mode": {
    "name": "ipython",
    "version": 3
   },
   "file_extension": ".py",
   "mimetype": "text/x-python",
   "name": "python",
   "nbconvert_exporter": "python",
   "pygments_lexer": "ipython3",
   "version": "3.9.23"
  }
 },
 "nbformat": 4,
 "nbformat_minor": 5
}
