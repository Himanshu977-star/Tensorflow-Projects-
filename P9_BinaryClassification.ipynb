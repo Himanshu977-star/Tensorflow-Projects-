{
 "cells": [
  {
   "cell_type": "markdown",
   "id": "8c3e45c1",
   "metadata": {},
   "source": [
    "Train a binary classification model on the Pima Indians Diabetes dataset using TensorFlow 2 and evaluate its accuracy."
   ]
  },
  {
   "cell_type": "code",
   "execution_count": 1,
   "id": "64cf6bdd",
   "metadata": {},
   "outputs": [],
   "source": [
    "import tensorflow as tf\n",
    "import pandas as pd\n",
    "from sklearn.model_selection import train_test_split\n",
    "from sklearn.preprocessing import StandardScaler\n",
    "from tensorflow.keras.models import Sequential\n",
    "from tensorflow.keras.layers import Dense"
   ]
  },
  {
   "cell_type": "code",
   "execution_count": 9,
   "id": "ebcd243d",
   "metadata": {},
   "outputs": [
    {
     "data": {
      "text/html": [
       "<div>\n",
       "<style scoped>\n",
       "    .dataframe tbody tr th:only-of-type {\n",
       "        vertical-align: middle;\n",
       "    }\n",
       "\n",
       "    .dataframe tbody tr th {\n",
       "        vertical-align: top;\n",
       "    }\n",
       "\n",
       "    .dataframe thead th {\n",
       "        text-align: right;\n",
       "    }\n",
       "</style>\n",
       "<table border=\"1\" class=\"dataframe\">\n",
       "  <thead>\n",
       "    <tr style=\"text-align: right;\">\n",
       "      <th></th>\n",
       "      <th>Pregnancies</th>\n",
       "      <th>Glucose</th>\n",
       "      <th>BloodPressure</th>\n",
       "      <th>SkinThickness</th>\n",
       "      <th>Insulin</th>\n",
       "      <th>BMI</th>\n",
       "      <th>DiabetesPedigreeFunction</th>\n",
       "      <th>Age</th>\n",
       "      <th>Outcome</th>\n",
       "    </tr>\n",
       "  </thead>\n",
       "  <tbody>\n",
       "    <tr>\n",
       "      <th>0</th>\n",
       "      <td>6</td>\n",
       "      <td>148</td>\n",
       "      <td>72</td>\n",
       "      <td>35</td>\n",
       "      <td>0</td>\n",
       "      <td>33.6</td>\n",
       "      <td>0.627</td>\n",
       "      <td>50</td>\n",
       "      <td>1</td>\n",
       "    </tr>\n",
       "    <tr>\n",
       "      <th>1</th>\n",
       "      <td>1</td>\n",
       "      <td>85</td>\n",
       "      <td>66</td>\n",
       "      <td>29</td>\n",
       "      <td>0</td>\n",
       "      <td>26.6</td>\n",
       "      <td>0.351</td>\n",
       "      <td>31</td>\n",
       "      <td>0</td>\n",
       "    </tr>\n",
       "    <tr>\n",
       "      <th>2</th>\n",
       "      <td>8</td>\n",
       "      <td>183</td>\n",
       "      <td>64</td>\n",
       "      <td>0</td>\n",
       "      <td>0</td>\n",
       "      <td>23.3</td>\n",
       "      <td>0.672</td>\n",
       "      <td>32</td>\n",
       "      <td>1</td>\n",
       "    </tr>\n",
       "    <tr>\n",
       "      <th>3</th>\n",
       "      <td>1</td>\n",
       "      <td>89</td>\n",
       "      <td>66</td>\n",
       "      <td>23</td>\n",
       "      <td>94</td>\n",
       "      <td>28.1</td>\n",
       "      <td>0.167</td>\n",
       "      <td>21</td>\n",
       "      <td>0</td>\n",
       "    </tr>\n",
       "    <tr>\n",
       "      <th>4</th>\n",
       "      <td>0</td>\n",
       "      <td>137</td>\n",
       "      <td>40</td>\n",
       "      <td>35</td>\n",
       "      <td>168</td>\n",
       "      <td>43.1</td>\n",
       "      <td>2.288</td>\n",
       "      <td>33</td>\n",
       "      <td>1</td>\n",
       "    </tr>\n",
       "  </tbody>\n",
       "</table>\n",
       "</div>"
      ],
      "text/plain": [
       "   Pregnancies  Glucose  BloodPressure  SkinThickness  Insulin   BMI  \\\n",
       "0            6      148             72             35        0  33.6   \n",
       "1            1       85             66             29        0  26.6   \n",
       "2            8      183             64              0        0  23.3   \n",
       "3            1       89             66             23       94  28.1   \n",
       "4            0      137             40             35      168  43.1   \n",
       "\n",
       "   DiabetesPedigreeFunction  Age  Outcome  \n",
       "0                     0.627   50        1  \n",
       "1                     0.351   31        0  \n",
       "2                     0.672   32        1  \n",
       "3                     0.167   21        0  \n",
       "4                     2.288   33        1  "
      ]
     },
     "execution_count": 9,
     "metadata": {},
     "output_type": "execute_result"
    }
   ],
   "source": [
    "#Load pima Indian Diabetes dataset using url\n",
    "url = \"https://raw.githubusercontent.com/jbrownlee/Datasets/master/pima-indians-diabetes.data.csv\"\n",
    "cols = [\"Pregnancies\", \"Glucose\", \"BloodPressure\", \"SkinThickness\", \"Insulin\", \"BMI\", \"DiabetesPedigreeFunction\", \"Age\", \"Outcome\"]\n",
    "df = pd.read_csv(url, names=cols)\n",
    "df.head()"
   ]
  },
  {
   "cell_type": "code",
   "execution_count": 5,
   "id": "6c02ffc7",
   "metadata": {},
   "outputs": [],
   "source": [
    "#Split feature and target\n",
    "X=df.drop('Outcome',axis=1).values\n",
    "y=df['Outcome'].values"
   ]
  },
  {
   "cell_type": "code",
   "execution_count": 10,
   "id": "0418d9e7",
   "metadata": {},
   "outputs": [],
   "source": [
    "#Standardize the features\n",
    "scalar=StandardScaler()\n",
    "X_scaled=scalar.fit_transform(X)"
   ]
  },
  {
   "cell_type": "code",
   "execution_count": 11,
   "id": "71d1303d",
   "metadata": {},
   "outputs": [],
   "source": [
    "#Train Test Split\n",
    "X_train,X_test,y_train,y_test=train_test_split(X_scaled,y,test_size=0.2,random_state=42)"
   ]
  },
  {
   "cell_type": "code",
   "execution_count": 12,
   "id": "d41ced87",
   "metadata": {},
   "outputs": [
    {
     "name": "stderr",
     "output_type": "stream",
     "text": [
      "c:\\Users\\ADARSH\\.conda\\envs\\tf_env\\lib\\site-packages\\keras\\src\\layers\\core\\dense.py:93: UserWarning: Do not pass an `input_shape`/`input_dim` argument to a layer. When using Sequential models, prefer using an `Input(shape)` object as the first layer in the model instead.\n",
      "  super().__init__(activity_regularizer=activity_regularizer, **kwargs)\n"
     ]
    }
   ],
   "source": [
    "#Build Binary Classification Model\n",
    "model=Sequential([\n",
    "    Dense(16,activation='relu',input_shape=[X.shape[1]]),\n",
    "    Dense(8,activation='relu'),\n",
    "    Dense(1,activation='sigmoid')\n",
    "])"
   ]
  },
  {
   "cell_type": "code",
   "execution_count": 13,
   "id": "124ab6c0",
   "metadata": {},
   "outputs": [],
   "source": [
    "model.compile(optimizer='adam',loss='binary_crossentropy',metrics=['accuracy'])"
   ]
  },
  {
   "cell_type": "code",
   "execution_count": 14,
   "id": "bfa945d6",
   "metadata": {},
   "outputs": [
    {
     "data": {
      "text/plain": [
       "<keras.src.callbacks.history.History at 0x20dd3a493f0>"
      ]
     },
     "execution_count": 14,
     "metadata": {},
     "output_type": "execute_result"
    }
   ],
   "source": [
    "model.fit(X_train,y_train,epochs=100,validation_split=0.1,verbose=0)"
   ]
  },
  {
   "cell_type": "code",
   "execution_count": 15,
   "id": "0357ba2a",
   "metadata": {},
   "outputs": [
    {
     "name": "stdout",
     "output_type": "stream",
     "text": [
      "Test loss: 0.607, Test accuracy: 0.701\n"
     ]
    }
   ],
   "source": [
    "#Evaluate the model\n",
    "loss,acc=model.evaluate(X_test,y_test,verbose=0)\n",
    "print(f'Test loss: {loss:.3f}, Test accuracy: {acc:.3f}')"
   ]
  },
  {
   "cell_type": "code",
   "execution_count": 16,
   "id": "873e60fb",
   "metadata": {},
   "outputs": [
    {
     "name": "stdout",
     "output_type": "stream",
     "text": [
      "\u001b[1m5/5\u001b[0m \u001b[32m━━━━━━━━━━━━━━━━━━━━\u001b[0m\u001b[37m\u001b[0m \u001b[1m0s\u001b[0m 15ms/step\n"
     ]
    },
    {
     "data": {
      "text/plain": [
       "array([[4.1135129e-01],\n",
       "       [1.2771483e-01],\n",
       "       [4.5376651e-02],\n",
       "       [2.2779214e-01],\n",
       "       [3.5981792e-01],\n",
       "       [6.6222227e-01],\n",
       "       [4.4296351e-03],\n",
       "       [6.9041783e-01],\n",
       "       [7.8701055e-01],\n",
       "       [5.6344378e-01],\n",
       "       [9.7258687e-02],\n",
       "       [8.7332064e-01],\n",
       "       [1.5198563e-01],\n",
       "       [6.1231595e-01],\n",
       "       [6.3710481e-02],\n",
       "       [3.7378591e-01],\n",
       "       [8.9838564e-02],\n",
       "       [3.4472365e-02],\n",
       "       [8.9628291e-01],\n",
       "       [4.7704536e-01],\n",
       "       [3.5839033e-01],\n",
       "       [4.2930163e-02],\n",
       "       [3.8865891e-01],\n",
       "       [3.2143015e-02],\n",
       "       [6.3141632e-01],\n",
       "       [9.2576766e-01],\n",
       "       [7.4062504e-02],\n",
       "       [6.2512900e-03],\n",
       "       [5.8989950e-02],\n",
       "       [1.9820203e-01],\n",
       "       [9.0318358e-01],\n",
       "       [6.4553130e-01],\n",
       "       [9.1853446e-01],\n",
       "       [8.8991541e-01],\n",
       "       [7.0296597e-01],\n",
       "       [7.4483633e-01],\n",
       "       [9.9826938e-01],\n",
       "       [6.1043453e-01],\n",
       "       [1.5888593e-01],\n",
       "       [9.5573640e-01],\n",
       "       [4.7747131e-02],\n",
       "       [5.6966436e-01],\n",
       "       [6.1534905e-01],\n",
       "       [1.7361607e-01],\n",
       "       [8.2543297e-03],\n",
       "       [7.3681796e-01],\n",
       "       [7.8288752e-01],\n",
       "       [1.6414332e-01],\n",
       "       [2.5698283e-01],\n",
       "       [9.3360442e-01],\n",
       "       [9.5614623e-03],\n",
       "       [8.3967137e-01],\n",
       "       [9.1895384e-01],\n",
       "       [3.0785695e-01],\n",
       "       [1.3729349e-02],\n",
       "       [1.5966568e-02],\n",
       "       [5.8325171e-01],\n",
       "       [1.3691669e-04],\n",
       "       [5.6103551e-01],\n",
       "       [7.4859226e-01],\n",
       "       [7.5257277e-01],\n",
       "       [3.9705014e-01],\n",
       "       [6.1874282e-01],\n",
       "       [2.9336593e-01],\n",
       "       [2.7343698e-02],\n",
       "       [7.4460351e-01],\n",
       "       [2.4392936e-02],\n",
       "       [8.7967956e-01],\n",
       "       [5.6562245e-02],\n",
       "       [4.0085176e-01],\n",
       "       [7.4724269e-01],\n",
       "       [2.6076477e-02],\n",
       "       [1.0752883e-01],\n",
       "       [3.8025979e-02],\n",
       "       [7.3847800e-02],\n",
       "       [6.2568295e-01],\n",
       "       [3.7254542e-01],\n",
       "       [4.3674126e-02],\n",
       "       [4.7577813e-02],\n",
       "       [1.1681273e-01],\n",
       "       [6.4149803e-01],\n",
       "       [9.3224019e-02],\n",
       "       [6.7725889e-02],\n",
       "       [1.5968609e-01],\n",
       "       [2.9867455e-01],\n",
       "       [9.0822637e-01],\n",
       "       [9.3726891e-01],\n",
       "       [2.2841725e-01],\n",
       "       [7.3381409e-02],\n",
       "       [5.3076293e-02],\n",
       "       [3.0956604e-02],\n",
       "       [2.4675359e-01],\n",
       "       [8.7382679e-05],\n",
       "       [4.2556500e-01],\n",
       "       [5.0464666e-01],\n",
       "       [8.2987612e-01],\n",
       "       [3.2591939e-01],\n",
       "       [1.4863533e-01],\n",
       "       [2.6449767e-01],\n",
       "       [1.5677886e-01],\n",
       "       [9.6097088e-01],\n",
       "       [1.9335885e-02],\n",
       "       [4.2577341e-01],\n",
       "       [4.8507443e-01],\n",
       "       [8.1402361e-01],\n",
       "       [9.8487817e-02],\n",
       "       [1.7030177e-01],\n",
       "       [8.9323109e-01],\n",
       "       [1.7284335e-01],\n",
       "       [7.4067521e-01],\n",
       "       [5.0588146e-02],\n",
       "       [3.1224829e-01],\n",
       "       [8.7428233e-04],\n",
       "       [8.8698596e-01],\n",
       "       [1.0981655e-01],\n",
       "       [4.9205884e-01],\n",
       "       [9.0520024e-01],\n",
       "       [4.3601519e-01],\n",
       "       [4.3461896e-02],\n",
       "       [5.6960917e-01],\n",
       "       [1.4158841e-02],\n",
       "       [3.0793735e-01],\n",
       "       [9.5146343e-02],\n",
       "       [2.8938690e-02],\n",
       "       [3.1644234e-01],\n",
       "       [7.0028293e-01],\n",
       "       [2.5703805e-03],\n",
       "       [7.9451632e-01],\n",
       "       [9.3318212e-01],\n",
       "       [9.0396422e-01],\n",
       "       [7.3970842e-01],\n",
       "       [8.8169742e-01],\n",
       "       [1.7946063e-02],\n",
       "       [4.3881449e-01],\n",
       "       [8.9014220e-01],\n",
       "       [9.9760965e-02],\n",
       "       [5.0822649e-02],\n",
       "       [3.6943007e-01],\n",
       "       [8.1271839e-01],\n",
       "       [2.7222552e-03],\n",
       "       [3.0451048e-02],\n",
       "       [1.1196277e-02],\n",
       "       [1.3259481e-01],\n",
       "       [1.1866522e-01],\n",
       "       [1.8165015e-01],\n",
       "       [3.3626249e-01],\n",
       "       [1.5589727e-01],\n",
       "       [6.8301586e-03],\n",
       "       [3.2780582e-01],\n",
       "       [5.3221017e-01],\n",
       "       [1.0235083e-01],\n",
       "       [2.7755389e-01],\n",
       "       [8.0915689e-02],\n",
       "       [3.9613128e-01]], dtype=float32)"
      ]
     },
     "execution_count": 16,
     "metadata": {},
     "output_type": "execute_result"
    }
   ],
   "source": [
    "model.predict(X_test)"
   ]
  }
 ],
 "metadata": {
  "kernelspec": {
   "display_name": "Python (tf_env)",
   "language": "python",
   "name": "tf_env"
  },
  "language_info": {
   "codemirror_mode": {
    "name": "ipython",
    "version": 3
   },
   "file_extension": ".py",
   "mimetype": "text/x-python",
   "name": "python",
   "nbconvert_exporter": "python",
   "pygments_lexer": "ipython3",
   "version": "3.10.16"
  }
 },
 "nbformat": 4,
 "nbformat_minor": 5
}
