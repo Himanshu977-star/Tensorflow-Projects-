{
 "cells": [
  {
   "cell_type": "markdown",
   "id": "e69cbce9",
   "metadata": {},
   "source": [
    "Use TensorFlow Hub’s SSD MobileNet model to perform object detection on live webcam feed using OpenCV and draw bounding boxes with class labels."
   ]
  },
  {
   "cell_type": "code",
   "execution_count": 32,
   "id": "574e2abb",
   "metadata": {},
   "outputs": [],
   "source": [
    "import tensorflow as tf\n",
    "import tensorflow_hub as hub\n",
    "import cv2\n",
    "import numpy as np"
   ]
  },
  {
   "cell_type": "code",
   "execution_count": 33,
   "id": "beae681e",
   "metadata": {},
   "outputs": [],
   "source": [
    "#Load the SSD MobileNet V2 model from TF hub\n",
    "detector=hub.load(\"https://tfhub.dev/tensorflow/ssd_mobilenet_v2/2\") #This model is trained on the COCO dataset."
   ]
  },
  {
   "cell_type": "code",
   "execution_count": 34,
   "id": "9f82a954",
   "metadata": {},
   "outputs": [],
   "source": [
    "#COCO label map(first 90 labels)\n",
    "labels = [\n",
    "    \"???\", \"person\", \"bicycle\", \"car\", \"motorcycle\", \"airplane\", \"bus\", \"train\",\n",
    "    \"truck\", \"boat\", \"traffic light\", \"fire hydrant\", \"???\", \"stop sign\",\n",
    "    \"parking meter\", \"bench\", \"bird\", \"cat\", \"dog\", \"horse\", \"sheep\", \"cow\",\n",
    "    \"elephant\", \"bear\", \"zebra\", \"giraffe\", \"???\", \"backpack\", \"umbrella\", \"???\",\n",
    "    \"???\", \"handbag\", \"tie\", \"suitcase\", \"frisbee\", \"skis\", \"snowboard\", \"sports ball\",\n",
    "    \"kite\", \"baseball bat\", \"baseball glove\", \"skateboard\", \"surfboard\", \"tennis racket\",\n",
    "    \"bottle\", \"???\", \"wine glass\", \"cup\", \"fork\", \"knife\", \"spoon\", \"bowl\",\n",
    "    \"banana\", \"apple\", \"sandwich\", \"orange\", \"broccoli\", \"carrot\", \"hot dog\", \"pizza\",\n",
    "    \"donut\", \"cake\", \"chair\", \"couch\", \"potted plant\", \"bed\", \"???\", \"dining table\",\n",
    "    \"???\", \"???\", \"toilet\", \"???\", \"tv\", \"laptop\", \"mouse\", \"remote\", \"keyboard\",\n",
    "    \"cell phone\", \"microwave\", \"oven\", \"toaster\", \"sink\", \"refrigerator\", \"???\",\n",
    "    \"book\", \"clock\", \"vase\", \"scissors\", \"teddy bear\", \"hair drier\", \"toothbrush\"\n",
    "]"
   ]
  },
  {
   "cell_type": "code",
   "execution_count": 35,
   "id": "13011586",
   "metadata": {},
   "outputs": [],
   "source": [
    "cap = cv2.VideoCapture(0)"
   ]
  },
  {
   "cell_type": "code",
   "execution_count": null,
   "id": "077a1daa",
   "metadata": {},
   "outputs": [],
   "source": [
    "while True:\n",
    "    ret, frame = cap.read()\n",
    "    if not ret:\n",
    "        break\n",
    "\n",
    "    # Preprocess frame\n",
    "    rgb_frame = cv2.cvtColor(frame, cv2.COLOR_BGR2RGB)\n",
    "    resized = tf.image.resize(rgb_frame, (320, 320))\n",
    "    input_tensor = tf.expand_dims(tf.cast(resized, dtype=tf.uint8), 0)\n",
    "\n",
    "    # Run detection\n",
    "    detections = detector(input_tensor)\n",
    "    detections = {k: v.numpy() for k, v in detections.items()}\n",
    "\n",
    "    h, w, _ = frame.shape\n",
    "    boxes = detections['detection_boxes'][0]\n",
    "    scores = detections['detection_scores'][0]\n",
    "    classes = detections['detection_classes'][0].astype(int)\n",
    "\n",
    "    # Apply Non-Maximum Suppression\n",
    "    selected_indices = tf.image.non_max_suppression(\n",
    "        boxes=boxes,\n",
    "        scores=scores,\n",
    "        max_output_size=20,\n",
    "        iou_threshold=0.5,\n",
    "        score_threshold=0.6\n",
    "    ).numpy()\n",
    "\n",
    "    for i in selected_indices:\n",
    "        box = boxes[i]\n",
    "        score = scores[i]\n",
    "        class_id = classes[i]\n",
    "\n",
    "        # Safer label access\n",
    "        if 0 < class_id < len(labels):\n",
    "            label = labels[class_id]\n",
    "        else:\n",
    "            label = \"N/A\"\n",
    "\n",
    "        ymin, xmin, ymax, xmax = box\n",
    "        left, top = int(xmin * w), int(ymin * h)\n",
    "        right, bottom = int(xmax * w), int(ymax * h)\n",
    "\n",
    "        # Draw bounding box and label\n",
    "        cv2.rectangle(frame, (left, top), (right, bottom), (0, 255, 0), 2)\n",
    "        cv2.putText(frame, f\"{label}: {score:.2f}\", (left, top - 10),\n",
    "                    cv2.FONT_HERSHEY_SIMPLEX, 0.6, (0, 255, 0), 2)\n",
    "\n",
    "    # Display result\n",
    "    cv2.imshow('Real-Time Object Detection', frame)\n",
    "\n",
    "    # Exit on pressing 'q'\n",
    "    if cv2.waitKey(1) & 0xFF == ord('q'):\n",
    "        break\n",
    "\n",
    "cap.release()\n",
    "cv2.destroyAllWindows()\n"
   ]
  },
  {
   "cell_type": "code",
   "execution_count": null,
   "id": "a802d633",
   "metadata": {},
   "outputs": [],
   "source": []
  }
 ],
 "metadata": {
  "kernelspec": {
   "display_name": "Python (tf_env)",
   "language": "python",
   "name": "tf_env"
  },
  "language_info": {
   "codemirror_mode": {
    "name": "ipython",
    "version": 3
   },
   "file_extension": ".py",
   "mimetype": "text/x-python",
   "name": "python",
   "nbconvert_exporter": "python",
   "pygments_lexer": "ipython3",
   "version": "3.10.16"
  }
 },
 "nbformat": 4,
 "nbformat_minor": 5
}
