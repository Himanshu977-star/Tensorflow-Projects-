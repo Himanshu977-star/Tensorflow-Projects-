{
 "cells": [
  {
   "cell_type": "markdown",
   "id": "f542b693",
   "metadata": {},
   "source": [
    "Implement a basic attention mechanism in TensorFlow 2 to compute weighted context vectors for sequence-to-sequence tasks (e.g., translation or summarization)."
   ]
  },
  {
   "cell_type": "code",
   "execution_count": 1,
   "id": "ae631532",
   "metadata": {},
   "outputs": [],
   "source": [
    "import tensorflow as tf\n",
    "import numpy as np"
   ]
  },
  {
   "cell_type": "code",
   "execution_count": 2,
   "id": "5d9ac4d7",
   "metadata": {},
   "outputs": [],
   "source": [
    "#Simulated encoder ouputs (batch_size=1,time_steps=4,hidden_size=8)\n",
    "encoder_outputs=tf.random.normal([1,4,8])\n",
    "decoder_hidden_state=tf.random.normal([1,8])"
   ]
  },
  {
   "cell_type": "code",
   "execution_count": 4,
   "id": "52218005",
   "metadata": {},
   "outputs": [],
   "source": [
    "#Define basic attention layer\n",
    "class BasicAttention(tf.keras.layers.Layer):\n",
    "    def __init__(self):\n",
    "        super().__init__()\n",
    "        self.W1=tf.keras.layers.Dense(8)\n",
    "        self.W2=tf.keras.layers.Dense(8)\n",
    "        self.V=tf.keras.layers.Dense(1)\n",
    "\n",
    "    def call(self,encoder_outputs,decoder_hidden):\n",
    "        decoder_hidden_exp=tf.expand_dims(decoder_hidden,1)\n",
    "        score=self.V(tf.nn.tanh(self.W1(encoder_outputs)+self.W2(decoder_hidden_exp)))\n",
    "        attention_weights=tf.nn.softmax(score,axis=1)\n",
    "        context_vector=attention_weights*encoder_outputs\n",
    "        context_vector=tf.reduce_sum(context_vector,axis=1)\n",
    "        return context_vector,attention_weights"
   ]
  },
  {
   "cell_type": "code",
   "execution_count": 5,
   "id": "3d23ca16",
   "metadata": {},
   "outputs": [],
   "source": [
    "attention = BasicAttention()\n",
    "context_vector, attention_weights = attention(encoder_outputs, decoder_hidden_state)"
   ]
  },
  {
   "cell_type": "code",
   "execution_count": 6,
   "id": "756a0256",
   "metadata": {},
   "outputs": [
    {
     "name": "stdout",
     "output_type": "stream",
     "text": [
      "Encoder outputs shape: (1, 4, 8)\n",
      "Decoder hidden state shape: (1, 8)\n",
      "Context vector shape: (1, 8)\n",
      "Attention weights shape: (1, 4, 1)\n",
      "Attention weights: [0.24032415 0.42041123 0.16460535 0.17465934]\n"
     ]
    }
   ],
   "source": [
    "print(\"Encoder outputs shape:\", encoder_outputs.shape)\n",
    "print(\"Decoder hidden state shape:\", decoder_hidden_state.shape)\n",
    "print(\"Context vector shape:\", context_vector.shape)\n",
    "print(\"Attention weights shape:\", attention_weights.shape)\n",
    "print(\"Attention weights:\", tf.squeeze(attention_weights).numpy())"
   ]
  }
 ],
 "metadata": {
  "kernelspec": {
   "display_name": "Python (tf_env)",
   "language": "python",
   "name": "tf_env"
  },
  "language_info": {
   "codemirror_mode": {
    "name": "ipython",
    "version": 3
   },
   "file_extension": ".py",
   "mimetype": "text/x-python",
   "name": "python",
   "nbconvert_exporter": "python",
   "pygments_lexer": "ipython3",
   "version": "3.9.23"
  }
 },
 "nbformat": 4,
 "nbformat_minor": 5
}
