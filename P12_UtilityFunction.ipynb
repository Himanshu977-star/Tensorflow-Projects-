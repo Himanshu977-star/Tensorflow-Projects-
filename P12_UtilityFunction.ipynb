{
 "cells": [
  {
   "cell_type": "markdown",
   "id": "fec4ac0f",
   "metadata": {},
   "source": [
    "Implement a utility function using TensorFlow's tf.data API to split image data into training, validation, and test sets from a directory."
   ]
  },
  {
   "cell_type": "code",
   "execution_count": 1,
   "id": "d0d6f779",
   "metadata": {},
   "outputs": [],
   "source": [
    "import tensorflow as tf\n",
    "import os"
   ]
  },
  {
   "cell_type": "code",
   "execution_count": 6,
   "id": "4584d51c",
   "metadata": {},
   "outputs": [],
   "source": [
    "#Load image dataset from directory\n",
    "dataset_url=\"https://storage.googleapis.com/mledu-datasets/cats_and_dogs_filtered.zip\"\n",
    "path_to_zip=tf.keras.utils.get_file('cats_and_dogs.zip',origin=dataset_url,extract=True)\n",
    "data_dir=os.path.join(os.path.dirname(path_to_zip),'cats_and_dogs_filtered','train')"
   ]
  },
  {
   "cell_type": "code",
   "execution_count": null,
   "id": "111f0d44",
   "metadata": {},
   "outputs": [],
   "source": [
    "#Function to create split datasets\n",
    "def create_split_datasets(data_dir,img_size=(160,160),batch_size=32,val_split=0.2,test_split=0.1):\n",
    "    #First split into train and validation\n",
    "    full_dataset=tf.keras.utils.image_dataset_from_directory(\n",
    "        data_dir,\n",
    "        image_size=img_size,\n",
    "        batch_size=batch_size,\n",
    "        validation_split=val_split+test_split,\n",
    "        subset='training',\n",
    "        seed=123\n",
    "    )\n",
    "    valtest_dataset=tf.keras.utils.image_dataset_from_directory( #Split into validation and test\n",
    "        data_dir,\n",
    "        image_size=img_size,\n",
    "        batch_size=batch_size,\n",
    "        validation_split=val_split+test_split,\n",
    "        subset='validation',\n",
    "        seed=123\n",
    "    )\n",
    "\n",
    "    val_batches=int(val_split/(val_split+test_split)*len(valtest_dataset))\n",
    "\n",
    "    val_dataset=valtest_dataset.take(val_batches)\n",
    "    test_dataset=valtest_dataset.skip(val_batches)\n",
    "\n",
    "    return full_dataset,val_dataset,test_dataset"
   ]
  },
  {
   "cell_type": "code",
   "execution_count": 8,
   "id": "cbf657a2",
   "metadata": {},
   "outputs": [
    {
     "name": "stdout",
     "output_type": "stream",
     "text": [
      "Found 2000 files belonging to 2 classes.\n",
      "Using 1400 files for training.\n",
      "Found 2000 files belonging to 2 classes.\n",
      "Using 600 files for validation.\n"
     ]
    }
   ],
   "source": [
    "#Generate datasets\n",
    "train_ds,val_ds,test_ds=create_split_datasets('cats_and_dogs_filtered/train')"
   ]
  },
  {
   "cell_type": "code",
   "execution_count": 9,
   "id": "0442acfa",
   "metadata": {},
   "outputs": [
    {
     "name": "stdout",
     "output_type": "stream",
     "text": [
      "Train: 44\n",
      "Validation: 12\n",
      "Test: 7\n"
     ]
    }
   ],
   "source": [
    "#Print dataset info\n",
    "print('Train:',len(train_ds))\n",
    "print('Validation:',len(val_ds))\n",
    "print('Test:',len(test_ds))"
   ]
  },
  {
   "cell_type": "code",
   "execution_count": null,
   "id": "acf36759",
   "metadata": {},
   "outputs": [],
   "source": []
  }
 ],
 "metadata": {
  "kernelspec": {
   "display_name": "Python (tf_env)",
   "language": "python",
   "name": "tf_env"
  },
  "language_info": {
   "codemirror_mode": {
    "name": "ipython",
    "version": 3
   },
   "file_extension": ".py",
   "mimetype": "text/x-python",
   "name": "python",
   "nbconvert_exporter": "python",
   "pygments_lexer": "ipython3",
   "version": "3.10.16"
  }
 },
 "nbformat": 4,
 "nbformat_minor": 5
}
