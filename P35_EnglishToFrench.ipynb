{
 "cells": [
  {
   "cell_type": "markdown",
   "id": "5968280e",
   "metadata": {},
   "source": [
    "Build a basic Seq2Seq (Encoder–Decoder) model using LSTM layers in TensorFlow 2 to translate short English sentences into French."
   ]
  },
  {
   "cell_type": "code",
   "execution_count": 1,
   "id": "7ad2cb32",
   "metadata": {},
   "outputs": [],
   "source": [
    "import tensorflow as tf\n",
    "import numpy as np"
   ]
  },
  {
   "cell_type": "code",
   "execution_count": 2,
   "id": "eaa92482",
   "metadata": {},
   "outputs": [],
   "source": [
    "#Sample parallel corpus\n",
    "english_sentences = [\"hello\", \"how are you\", \"thank you\", \"good night\"]\n",
    "french_sentences = [\"bonjour\", \"comment ça va\", \"merci\", \"bonne nuit\"]"
   ]
  },
  {
   "cell_type": "code",
   "execution_count": 24,
   "id": "b56d6043",
   "metadata": {},
   "outputs": [],
   "source": [
    "#Tokenize source (English)\n",
    "src_tokenizer = tf.keras.preprocessing.text.Tokenizer(filters='')\n",
    "src_tokenizer.fit_on_texts(english_sentences)\n",
    "src_sequences = src_tokenizer.texts_to_sequences(english_sentences)\n",
    "src_word_index = src_tokenizer.word_index\n",
    "src_vocab_size = len(src_word_index) + 1"
   ]
  },
  {
   "cell_type": "code",
   "execution_count": 25,
   "id": "67ce16c4",
   "metadata": {},
   "outputs": [],
   "source": [
    "#Tokenize target (French) with <start> and <end> tokens\n",
    "french_sentences = [f\"<start> {s} <end>\" for s in french_sentences]\n",
    "tgt_tokenizer = tf.keras.preprocessing.text.Tokenizer(filters='')\n",
    "tgt_tokenizer.fit_on_texts(french_sentences)\n",
    "tgt_sequences = tgt_tokenizer.texts_to_sequences(french_sentences)\n",
    "tgt_word_index = tgt_tokenizer.word_index\n",
    "tgt_index_word = tgt_tokenizer.index_word\n",
    "tgt_vocab_size = len(tgt_word_index) + 1"
   ]
  },
  {
   "cell_type": "markdown",
   "id": "04c75eba",
   "metadata": {},
   "source": [
    "The pad_sequences function in TensorFlow (specifically, from tf.keras.preprocessing.sequence) is used to ensure that all sequences (lists of word indices) are the same length, which is required for efficient processing in deep learning models."
   ]
  },
  {
   "cell_type": "code",
   "execution_count": 26,
   "id": "94b4bde9",
   "metadata": {},
   "outputs": [],
   "source": [
    "#Pad sequences\n",
    "src_padded = tf.keras.preprocessing.sequence.pad_sequences(src_sequences, padding='post')\n",
    "tgt_padded = tf.keras.preprocessing.sequence.pad_sequences(tgt_sequences, padding='post')"
   ]
  },
  {
   "cell_type": "code",
   "execution_count": 27,
   "id": "8a6e4549",
   "metadata": {},
   "outputs": [],
   "source": [
    "#Split target into decoder input and output\n",
    "decoder_input = tgt_padded[:, :-1]\n",
    "decoder_target = tf.keras.utils.to_categorical(tgt_padded[:, 1:], num_classes=tgt_vocab_size)"
   ]
  },
  {
   "cell_type": "code",
   "execution_count": 28,
   "id": "42437a5d",
   "metadata": {},
   "outputs": [],
   "source": [
    "embedding_dim = 64\n",
    "latent_dim = 64"
   ]
  },
  {
   "cell_type": "code",
   "execution_count": 29,
   "id": "fc43754a",
   "metadata": {},
   "outputs": [],
   "source": [
    "# Encoder\n",
    "encoder_inputs = tf.keras.Input(shape=(None,))\n",
    "enc_emb = tf.keras.layers.Embedding(src_vocab_size, embedding_dim)(encoder_inputs)\n",
    "_, state_h, state_c = tf.keras.layers.LSTM(latent_dim, return_state=True)(enc_emb)\n",
    "\n",
    "# Decoder\n",
    "decoder_inputs = tf.keras.Input(shape=(None,))\n",
    "dec_emb_layer = tf.keras.layers.Embedding(tgt_vocab_size, embedding_dim)\n",
    "dec_emb = dec_emb_layer(decoder_inputs)\n",
    "decoder_lstm = tf.keras.layers.LSTM(latent_dim, return_sequences=True, return_state=True)\n",
    "decoder_outputs, _, _ = decoder_lstm(dec_emb, initial_state=[state_h, state_c])\n",
    "decoder_dense = tf.keras.layers.Dense(tgt_vocab_size, activation='softmax')\n",
    "decoder_outputs = decoder_dense(decoder_outputs)\n"
   ]
  },
  {
   "cell_type": "code",
   "execution_count": 30,
   "id": "0bb1db19",
   "metadata": {},
   "outputs": [
    {
     "data": {
      "text/plain": [
       "<keras.src.callbacks.history.History at 0x25317c34fd0>"
      ]
     },
     "execution_count": 30,
     "metadata": {},
     "output_type": "execute_result"
    }
   ],
   "source": [
    "#Model compilation and training\n",
    "model = tf.keras.Model([encoder_inputs, decoder_inputs], decoder_outputs)\n",
    "model.compile(optimizer='adam', loss='categorical_crossentropy', metrics=['accuracy'])\n",
    "model.fit([src_padded, decoder_input], decoder_target, epochs=300, verbose=0)"
   ]
  },
  {
   "cell_type": "code",
   "execution_count": 31,
   "id": "681b3318",
   "metadata": {},
   "outputs": [],
   "source": [
    "# Encoder model\n",
    "encoder_model = tf.keras.Model(encoder_inputs, [state_h, state_c])\n",
    "\n",
    "# Decoder model\n",
    "decoder_state_input_h = tf.keras.Input(shape=(latent_dim,))\n",
    "decoder_state_input_c = tf.keras.Input(shape=(latent_dim,))\n",
    "decoder_states_inputs = [decoder_state_input_h, decoder_state_input_c]\n",
    "\n",
    "decoder_inputs_single = tf.keras.Input(shape=(1,))\n",
    "dec_emb_inf = dec_emb_layer(decoder_inputs_single)\n",
    "\n",
    "decoder_outputs_inf, state_h_inf, state_c_inf = decoder_lstm(\n",
    "    dec_emb_inf, initial_state=decoder_states_inputs)\n",
    "decoder_outputs_inf = decoder_dense(decoder_outputs_inf)\n",
    "\n",
    "decoder_model = tf.keras.Model(\n",
    "    [decoder_inputs_single] + decoder_states_inputs,\n",
    "    [decoder_outputs_inf, state_h_inf, state_c_inf]\n",
    ")"
   ]
  },
  {
   "cell_type": "code",
   "execution_count": 32,
   "id": "058e2220",
   "metadata": {},
   "outputs": [],
   "source": [
    "def translate(input_text):\n",
    "    seq = src_tokenizer.texts_to_sequences([input_text])\n",
    "    seq = tf.keras.preprocessing.sequence.pad_sequences(seq, maxlen=src_padded.shape[1], padding='post')\n",
    "\n",
    "    if not any(seq[0]):\n",
    "        return \"[Unknown Input]\"\n",
    "\n",
    "    h, c = encoder_model.predict(seq)\n",
    "\n",
    "    dec_input = np.array([[tgt_word_index['<start>']]])\n",
    "    translated = []\n",
    "\n",
    "    for _ in range(10):\n",
    "        output_tokens, h, c = decoder_model.predict([dec_input, h, c])\n",
    "        token = np.argmax(output_tokens[0, -1, :])\n",
    "        word = tgt_index_word.get(token, '')\n",
    "        if word == '<end>':\n",
    "            break\n",
    "        translated.append(word)\n",
    "        dec_input = np.array([[token]])\n",
    "\n",
    "    return ' '.join(translated)"
   ]
  },
  {
   "cell_type": "code",
   "execution_count": 33,
   "id": "95d3a951",
   "metadata": {},
   "outputs": [
    {
     "name": "stdout",
     "output_type": "stream",
     "text": [
      "\u001b[1m1/1\u001b[0m \u001b[32m━━━━━━━━━━━━━━━━━━━━\u001b[0m\u001b[37m\u001b[0m \u001b[1m0s\u001b[0m 388ms/step\n",
      "\u001b[1m1/1\u001b[0m \u001b[32m━━━━━━━━━━━━━━━━━━━━\u001b[0m\u001b[37m\u001b[0m \u001b[1m0s\u001b[0m 336ms/step\n",
      "\u001b[1m1/1\u001b[0m \u001b[32m━━━━━━━━━━━━━━━━━━━━\u001b[0m\u001b[37m\u001b[0m \u001b[1m0s\u001b[0m 62ms/step\n",
      "\u001b[1m1/1\u001b[0m \u001b[32m━━━━━━━━━━━━━━━━━━━━\u001b[0m\u001b[37m\u001b[0m \u001b[1m0s\u001b[0m 110ms/step\n",
      "Translate 'hello': <start> bonjour\n",
      "\u001b[1m1/1\u001b[0m \u001b[32m━━━━━━━━━━━━━━━━━━━━\u001b[0m\u001b[37m\u001b[0m \u001b[1m0s\u001b[0m 65ms/step\n",
      "\u001b[1m1/1\u001b[0m \u001b[32m━━━━━━━━━━━━━━━━━━━━\u001b[0m\u001b[37m\u001b[0m \u001b[1m0s\u001b[0m 104ms/step\n",
      "\u001b[1m1/1\u001b[0m \u001b[32m━━━━━━━━━━━━━━━━━━━━\u001b[0m\u001b[37m\u001b[0m \u001b[1m0s\u001b[0m 35ms/step\n",
      "\u001b[1m1/1\u001b[0m \u001b[32m━━━━━━━━━━━━━━━━━━━━\u001b[0m\u001b[37m\u001b[0m \u001b[1m0s\u001b[0m 33ms/step\n",
      "Translate 'thank you': <start> merci\n",
      "\u001b[1m1/1\u001b[0m \u001b[32m━━━━━━━━━━━━━━━━━━━━\u001b[0m\u001b[37m\u001b[0m \u001b[1m0s\u001b[0m 30ms/step\n",
      "\u001b[1m1/1\u001b[0m \u001b[32m━━━━━━━━━━━━━━━━━━━━\u001b[0m\u001b[37m\u001b[0m \u001b[1m0s\u001b[0m 36ms/step\n",
      "\u001b[1m1/1\u001b[0m \u001b[32m━━━━━━━━━━━━━━━━━━━━\u001b[0m\u001b[37m\u001b[0m \u001b[1m0s\u001b[0m 38ms/step\n",
      "\u001b[1m1/1\u001b[0m \u001b[32m━━━━━━━━━━━━━━━━━━━━\u001b[0m\u001b[37m\u001b[0m \u001b[1m0s\u001b[0m 32ms/step\n",
      "\u001b[1m1/1\u001b[0m \u001b[32m━━━━━━━━━━━━━━━━━━━━\u001b[0m\u001b[37m\u001b[0m \u001b[1m0s\u001b[0m 33ms/step\n",
      "\u001b[1m1/1\u001b[0m \u001b[32m━━━━━━━━━━━━━━━━━━━━\u001b[0m\u001b[37m\u001b[0m \u001b[1m0s\u001b[0m 35ms/step\n",
      "Translate 'how are you': <start> comment ça va\n",
      "\u001b[1m1/1\u001b[0m \u001b[32m━━━━━━━━━━━━━━━━━━━━\u001b[0m\u001b[37m\u001b[0m \u001b[1m0s\u001b[0m 35ms/step\n",
      "\u001b[1m1/1\u001b[0m \u001b[32m━━━━━━━━━━━━━━━━━━━━\u001b[0m\u001b[37m\u001b[0m \u001b[1m0s\u001b[0m 36ms/step\n",
      "\u001b[1m1/1\u001b[0m \u001b[32m━━━━━━━━━━━━━━━━━━━━\u001b[0m\u001b[37m\u001b[0m \u001b[1m0s\u001b[0m 33ms/step\n",
      "\u001b[1m1/1\u001b[0m \u001b[32m━━━━━━━━━━━━━━━━━━━━\u001b[0m\u001b[37m\u001b[0m \u001b[1m0s\u001b[0m 36ms/step\n",
      "\u001b[1m1/1\u001b[0m \u001b[32m━━━━━━━━━━━━━━━━━━━━\u001b[0m\u001b[37m\u001b[0m \u001b[1m0s\u001b[0m 39ms/step\n",
      "Translate 'good night': <start> bonne nuit\n"
     ]
    }
   ],
   "source": [
    "print(\"Translate 'hello':\", translate(\"hello\"))\n",
    "print(\"Translate 'thank you':\", translate(\"thank you\"))\n",
    "print(\"Translate 'how are you':\", translate(\"how are you\"))\n",
    "print(\"Translate 'good night':\", translate(\"good night\"))"
   ]
  }
 ],
 "metadata": {
  "kernelspec": {
   "display_name": "Python (tf_env)",
   "language": "python",
   "name": "tf_env"
  },
  "language_info": {
   "codemirror_mode": {
    "name": "ipython",
    "version": 3
   },
   "file_extension": ".py",
   "mimetype": "text/x-python",
   "name": "python",
   "nbconvert_exporter": "python",
   "pygments_lexer": "ipython3",
   "version": "3.9.23"
  }
 },
 "nbformat": 4,
 "nbformat_minor": 5
}
