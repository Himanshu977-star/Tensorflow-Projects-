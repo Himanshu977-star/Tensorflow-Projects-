{
 "cells": [
  {
   "cell_type": "markdown",
   "id": "2ea63250",
   "metadata": {},
   "source": [
    "Build a simplified Transformer Encoder using TensorFlow 2 and apply it to generate contextualized text embeddings for input tokens."
   ]
  },
  {
   "cell_type": "code",
   "execution_count": 1,
   "id": "c6afe882",
   "metadata": {},
   "outputs": [],
   "source": [
    "import tensorflow as tf\n",
    "import numpy as np"
   ]
  },
  {
   "cell_type": "code",
   "execution_count": 2,
   "id": "6c792379",
   "metadata": {},
   "outputs": [],
   "source": [
    "#Sample tokenized sentence\n",
    "sample_input=tf.constant([[3,4,7,9,0,0]])\n",
    "vocab_size=20\n",
    "maxlen=6\n",
    "embed_dim=64\n",
    "ff_dim=128\n",
    "num_heads=4"
   ]
  },
  {
   "cell_type": "code",
   "execution_count": 6,
   "id": "34edeca4",
   "metadata": {},
   "outputs": [],
   "source": [
    "#Positional encoding layer\n",
    "class PositionalEncoding(tf.keras.layers.Layer):\n",
    "    def call(self, inputs):\n",
    "        seq_len = tf.shape(inputs)[1]\n",
    "        embed_dim = tf.shape(inputs)[2]\n",
    "\n",
    "        position = tf.cast(tf.range(seq_len)[:, tf.newaxis], tf.float32)\n",
    "        i = tf.cast(tf.range(embed_dim)[tf.newaxis, :], tf.float32)\n",
    "\n",
    "        angle_rates = 1 / tf.pow(10000.0, (2 * (i // 2)) / tf.cast(embed_dim, tf.float32))\n",
    "        angle_rads = position * angle_rates\n",
    "\n",
    "        # Apply sin to even indices and cos to odd indices\n",
    "        sines = tf.math.sin(angle_rads[:, 0::2])\n",
    "        cosines = tf.math.cos(angle_rads[:, 1::2])\n",
    "\n",
    "        # Interleave sines and cosines\n",
    "        pos_encoding = tf.concat([sines, cosines], axis=-1)\n",
    "        pos_encoding = tf.expand_dims(pos_encoding, 0)  # Add batch dimension\n",
    "\n",
    "        return inputs + pos_encoding\n"
   ]
  },
  {
   "cell_type": "code",
   "execution_count": 7,
   "id": "c18708b1",
   "metadata": {},
   "outputs": [],
   "source": [
    "#Transformer encoder block\n",
    "class TransformerEncoder(tf.keras.layers.Layer):\n",
    "    def __init__(self, embed_dim, num_heads, ff_dim):\n",
    "        super().__init__()\n",
    "        self.att = tf.keras.layers.MultiHeadAttention(num_heads=num_heads, key_dim=embed_dim)\n",
    "        self.ffn = tf.keras.Sequential([\n",
    "            tf.keras.layers.Dense(ff_dim, activation='relu'),\n",
    "            tf.keras.layers.Dense(embed_dim),\n",
    "        ])\n",
    "        self.norm1 = tf.keras.layers.LayerNormalization()\n",
    "        self.norm2 = tf.keras.layers.LayerNormalization()\n",
    "\n",
    "    def call(self, x):\n",
    "        attn_output = self.att(x, x)                         # Self-attention\n",
    "        out1 = self.norm1(x + attn_output)                   # Add & norm\n",
    "        ffn_output = self.ffn(out1)                          # Feed-forward network\n",
    "        return self.norm2(out1 + ffn_output)                 # Add & norm\n"
   ]
  },
  {
   "cell_type": "code",
   "execution_count": 8,
   "id": "8b25f75b",
   "metadata": {},
   "outputs": [],
   "source": [
    "inputs = tf.keras.Input(shape=(maxlen,))\n",
    "x = tf.keras.layers.Embedding(input_dim=vocab_size, output_dim=embed_dim)(inputs)   # Word embeddings\n",
    "x = PositionalEncoding()(x)                                                         # Add positional encoding\n",
    "x = TransformerEncoder(embed_dim, num_heads, ff_dim)(x)                             # Transformer block\n",
    "model = tf.keras.Model(inputs, x)\n"
   ]
  },
  {
   "cell_type": "code",
   "execution_count": 9,
   "id": "e5d07124",
   "metadata": {},
   "outputs": [
    {
     "name": "stdout",
     "output_type": "stream",
     "text": [
      "Output Embedding Shape: (1, 6, 64)\n",
      "Token Embedding for first token: [-0.403 -0.525 -0.902  0.09  -0.777]\n"
     ]
    }
   ],
   "source": [
    "output_embeddings = model(sample_input)\n",
    "print(\"Output Embedding Shape:\", output_embeddings.shape)\n",
    "print(\"Token Embedding for first token:\", output_embeddings[0, 0, :5].numpy().round(3))"
   ]
  }
 ],
 "metadata": {
  "kernelspec": {
   "display_name": "Python (tf_env)",
   "language": "python",
   "name": "tf_env"
  },
  "language_info": {
   "codemirror_mode": {
    "name": "ipython",
    "version": 3
   },
   "file_extension": ".py",
   "mimetype": "text/x-python",
   "name": "python",
   "nbconvert_exporter": "python",
   "pygments_lexer": "ipython3",
   "version": "3.9.23"
  }
 },
 "nbformat": 4,
 "nbformat_minor": 5
}
