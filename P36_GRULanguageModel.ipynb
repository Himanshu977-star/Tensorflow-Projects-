{
 "cells": [
  {
   "cell_type": "markdown",
   "id": "95c197de",
   "metadata": {},
   "source": [
    "This code trains a character-level GRU-based language model using TensorFlow 2, designed to generate English text one character at a time."
   ]
  },
  {
   "cell_type": "code",
   "execution_count": 1,
   "id": "50c228d3",
   "metadata": {},
   "outputs": [],
   "source": [
    "import tensorflow as tf\n",
    "import numpy as np"
   ]
  },
  {
   "cell_type": "code",
   "execution_count": 2,
   "id": "7043c001",
   "metadata": {},
   "outputs": [],
   "source": [
    "#Load and prepare text\n",
    "text=\"To be, or not to be, that is the question.\"\n",
    "chars=sorted(set(text))\n",
    "char2idx={ch:i for i,ch in enumerate(chars)}\n",
    "idx2char=np.array(chars)\n",
    "vocab_size=len(chars)"
   ]
  },
  {
   "cell_type": "code",
   "execution_count": 3,
   "id": "2e4da0db",
   "metadata": {},
   "outputs": [],
   "source": [
    "#Convert entire text to integer sequence\n",
    "text_as_int=np.array([char2idx[c] for c in text])"
   ]
  },
  {
   "cell_type": "code",
   "execution_count": 8,
   "id": "84a64f52",
   "metadata": {},
   "outputs": [],
   "source": [
    "#Create input-output pairs for training\n",
    "seq_length=10\n",
    "examples_per_epoch=len(text_as_int)-seq_length\n",
    "inputs=[]\n",
    "outputs=[]\n",
    "for i in range(examples_per_epoch):\n",
    "    inputs.append(text_as_int[i:i+seq_length])\n",
    "    outputs.append(text_as_int[i+1:i+seq_length+1])\n",
    "x=np.array(inputs)\n",
    "y=np.array(outputs)"
   ]
  },
  {
   "cell_type": "code",
   "execution_count": 11,
   "id": "e1ad7053",
   "metadata": {},
   "outputs": [],
   "source": [
    "#Build GRU language model\n",
    "embedding_dim=32\n",
    "gru_units=64\n",
    "model=tf.keras.Sequential([\n",
    "    tf.keras.layers.Embedding(vocab_size,embedding_dim,input_length=seq_length),\n",
    "    tf.keras.layers.GRU(gru_units,return_sequences=True),\n",
    "    tf.keras.layers.Dense(vocab_size,activation='softmax')\n",
    "])"
   ]
  },
  {
   "cell_type": "code",
   "execution_count": 12,
   "id": "84d2511f",
   "metadata": {},
   "outputs": [
    {
     "data": {
      "text/plain": [
       "<keras.src.callbacks.history.History at 0x1fb0fef1130>"
      ]
     },
     "execution_count": 12,
     "metadata": {},
     "output_type": "execute_result"
    }
   ],
   "source": [
    "model.compile(optimizer='adam', loss='sparse_categorical_crossentropy')\n",
    "model.fit(x, y, epochs=200, verbose=0)"
   ]
  },
  {
   "cell_type": "code",
   "execution_count": 13,
   "id": "46c99174",
   "metadata": {},
   "outputs": [],
   "source": [
    "def generate_text(seed, length=100):\n",
    "    input_eval = [char2idx[c] for c in seed.lower()]     # Convert seed to indices\n",
    "    input_eval = tf.expand_dims(input_eval, 0)           # Add batch dimension\n",
    "    result = list(seed)                                  # Store output characters\n",
    "\n",
    "    for _ in range(length):\n",
    "        predictions = model(input_eval)                              # Predict on current input\n",
    "        predicted_id = tf.random.categorical(predictions[:, -1, :], num_samples=1).numpy()[0][0]\n",
    "        result.append(idx2char[predicted_id])                        # Convert index to char\n",
    "        input_eval = tf.concat([input_eval[:, 1:], [[predicted_id]]], axis=1)  # Slide window forward\n",
    "\n",
    "    return ''.join(result)\n"
   ]
  },
  {
   "cell_type": "code",
   "execution_count": 14,
   "id": "32ea88b9",
   "metadata": {},
   "outputs": [
    {
     "name": "stdout",
     "output_type": "stream",
     "text": [
      "To be, or narq,aoheaburu ,riqasti,s, iqaqb,shheea.ainshatne.a,rs.obeu,tTaueb..ash,h,n,h,hqb uiu, n,qqueqah  be\n"
     ]
    }
   ],
   "source": [
    "print(generate_text(\"To be, or \"))"
   ]
  }
 ],
 "metadata": {
  "kernelspec": {
   "display_name": "Python (tf_env)",
   "language": "python",
   "name": "tf_env"
  },
  "language_info": {
   "codemirror_mode": {
    "name": "ipython",
    "version": 3
   },
   "file_extension": ".py",
   "mimetype": "text/x-python",
   "name": "python",
   "nbconvert_exporter": "python",
   "pygments_lexer": "ipython3",
   "version": "3.9.23"
  }
 },
 "nbformat": 4,
 "nbformat_minor": 5
}
